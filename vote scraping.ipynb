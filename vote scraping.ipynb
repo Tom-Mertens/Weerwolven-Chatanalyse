{
 "cells": [
  {
   "cell_type": "code",
   "execution_count": 1,
   "id": "advised-embassy",
   "metadata": {},
   "outputs": [],
   "source": [
    "import requests\n",
    "from bs4 import BeautifulSoup as bs\n",
    "URL = 'http://www.loulouapp.com/pollMain.php?tag=1214025vcwif5lv5q37u1cfk'\n",
    "page = requests.get(URL)\n",
    "soup = bs(page.content, 'html5lib')"
   ]
  },
  {
   "cell_type": "code",
   "execution_count": 2,
   "id": "proprietary-museum",
   "metadata": {},
   "outputs": [
    {
     "data": {
      "text/plain": [
       "<!DOCTYPE html>\n",
       "<html lang=\"\"><head>\n",
       "        <script type=\"text/javascript\">\n",
       "\n",
       "  var _gaq = _gaq || [];\n",
       "  _gaq.push(['_setAccount', 'UA-40931419-1']);\n",
       "  _gaq.push(['_trackPageview']);\n",
       "\n",
       "  (function() {\n",
       "    var ga = document.createElement('script'); ga.type = 'text/javascript'; ga.async = true;\n",
       "    ga.src = ('https:' == document.location.protocol ? 'https://ssl' : 'http://www') + '.google-analytics.com/ga.js';\n",
       "    var s = document.getElementsByTagName('script')[0]; s.parentNode.insertBefore(ga, s);\n",
       "  })();\n",
       "\n",
       "</script>\n",
       "        <link href=\"/images/icon-196.png\" rel=\"icon\" sizes=\"196x196\"/>\n",
       "        <meta content=\"text/html; charset=utf-8\" http-equiv=\"Content-Type\"/>\n",
       "        <meta content=\"yes\" name=\"apple-mobile-web-app-capable\"/>\n",
       "        <title>Wie wordt de Burgemeester</title>\n",
       "        <meta content=\"Beau | Bob | Anke | Elise | Etienne | Floris | Ilse | Jasmijn | Jelle | Joost | Jordi | Marloes | Martijn | Pieter | Remco | Rik | Roy | Sam | Sven | Tom\" name=\"description\"/>\n",
       "        <meta content=\"width=device-width, initial-scale=1\" name=\"viewport\"/>\n",
       "        <link href=\"css/enterName.css\" media=\"screen\" rel=\"stylesheet\" type=\"text/css\"/>\n",
       "    </head>\n",
       "\n",
       "      <body style=\"background:#eee\">\n",
       "        <div id=\"normal_mode\">\n",
       "            <div class=\"header\">\n",
       "                <!-- <div class='header-loulou-branding'>LouLou</div> -->\n",
       "                <h1 class=\"header-title\">What's your name?</h1>\n",
       "                <div class=\"header-explain-name\" for=\"input-text\">Enter your first name</div>\n",
       "            </div>\n",
       "\n",
       "            <!-- Form and Submit Button -->\n",
       "            <form action=\"namesubmit.php?tag=1214025vcwif5lv5q37u1cfk\" class=\"enter-name-form skip-link\" id=\"entername_form\" method=\"post\">\n",
       "\n",
       "                <input id=\"input-text\" maxlength=\"30\" name=\"name\" placeholder=\"First name\" size=\"20\" type=\"text\"/>\n",
       "                <!-- <label for=\"input-text\" style='opacity:0'>Enter your first name</label> -->\n",
       "                \n",
       "                <center>\n",
       "                    <input class=\"enter-name-submit\" name=\"submit\" type=\"submit\" value=\"Continue\"/>\n",
       "                </center>\n",
       "            </form>\n",
       "\n",
       "            <!-- Explanation and Privacy Policy -->\n",
       "            <p class=\"explanation-text\">\n",
       "                This is the name that your friends will see when you place your votes. To see your old LouLous you have to vote atleast once. LouLou only works when your browser is not in incognito mode. We use cookies to save your votes and to show some ads, by using the service you agree to this.                <a class=\"privacy-policy-link\" href=\"http://www.loulouapp.com/privacy\">\n",
       "                Privacy policy</a>\n",
       "            </p>\n",
       "            \n",
       "        </div>            \n",
       "        \n",
       "</body></html>"
      ]
     },
     "execution_count": 2,
     "metadata": {},
     "output_type": "execute_result"
    }
   ],
   "source": [
    "soup"
   ]
  },
  {
   "cell_type": "code",
   "execution_count": 4,
   "id": "original-binding",
   "metadata": {},
   "outputs": [
    {
     "data": {
      "text/plain": [
       "'\\n\\n\\n<!DOCTYPE html>\\n<html lang=>\\n\\n    <head>\\n        <script type=\"text/javascript\">\\n\\n  var _gaq = _gaq || [];\\n  _gaq.push([\\'_setAccount\\', \\'UA-40931419-1\\']);\\n  _gaq.push([\\'_trackPageview\\']);\\n\\n  (function() {\\n    var ga = document.createElement(\\'script\\'); ga.type = \\'text/javascript\\'; ga.async = true;\\n    ga.src = (\\'https:\\' == document.location.protocol ? \\'https://ssl\\' : \\'http://www\\') + \\'.google-analytics.com/ga.js\\';\\n    var s = document.getElementsByTagName(\\'script\\')[0]; s.parentNode.insertBefore(ga, s);\\n  })();\\n\\n</script>\\n        <link rel=\"icon\" sizes=\"196x196\" href=\"/images/icon-196.png\">\\n        <meta content=\"text/html; charset=utf-8\" http-equiv=\"Content-Type\" />\\n        <meta content=\"yes\" name=\"apple-mobile-web-app-capable\" />\\n        <title>Wie wordt de Burgemeester</title>\\n        <meta name=\"description\" content=\"Beau | Bob | Anke | Elise | Etienne | Floris | Ilse | Jasmijn | Jelle | Joost | Jordi | Marloes | Martijn | Pieter | Remco | Rik | Roy | Sam | Sven | Tom\">\\n        <meta name=\"viewport\" content=\"width=device-width, initial-scale=1\">\\n        <link href=\"css/enterName.css\" rel=\"stylesheet\" media=\"screen\" type=\"text/css\" />\\n    </head>\\n\\n      <body style=\\'background:#eee\\'>\\n        <div id=\"normal_mode\">\\n            <div class=\\'header\\'>\\n                <!-- <div class=\\'header-loulou-branding\\'>LouLou</div> -->\\n                <h1 class=\\'header-title\\'>What\\'s your name?</h1>\\n                <div class=\\'header-explain-name\\' for=\"input-text\">Enter your first name</div>\\n            </div>\\n\\n            <!-- Form and Submit Button -->\\n            <form   \\n                class=\\'enter-name-form skip-link\\'\\n                method=\"post\" \\n                id=\"entername_form\" \\n                action=\"namesubmit.php?tag=1214025vcwif5lv5q37u1cfk\">\\n\\n                <input \\n                    type=\"text\"\\n                    id=\"input-text\" \\n                    name=\"name\" \\n                    maxlength=\"30\" \\n                    size=\"20\" \\n                    placeholder=\"First name\">\\n                <!-- <label for=\"input-text\" style=\\'opacity:0\\'>Enter your first name</label> -->\\n                \\n                <center>\\n                    <input \\n                        type=\"submit\" \\n                        class=\"enter-name-submit\"\\n                        name=\"submit\" \\n                        value=Continue>\\n                </center>\\n            </form>\\n\\n            <!-- Explanation and Privacy Policy -->\\n            <p class=\"explanation-text\">\\n                This is the name that your friends will see when you place your votes. To see your old LouLous you have to vote atleast once. LouLou only works when your browser is not in incognito mode. We use cookies to save your votes and to show some ads, by using the service you agree to this.                <a class=\"privacy-policy-link\" \\n                href=\"http://www.loulouapp.com/privacy\">\\n                Privacy policy</a>\\n            </p>\\n            \\n        </div>            \\n        </body>\\n</html>'"
      ]
     },
     "execution_count": 4,
     "metadata": {},
     "output_type": "execute_result"
    }
   ],
   "source": [
    "page.text"
   ]
  },
  {
   "cell_type": "code",
   "execution_count": null,
   "id": "eight-casino",
   "metadata": {},
   "outputs": [],
   "source": []
  }
 ],
 "metadata": {
  "kernelspec": {
   "display_name": "Python 3",
   "language": "python",
   "name": "python3"
  },
  "language_info": {
   "codemirror_mode": {
    "name": "ipython",
    "version": 3
   },
   "file_extension": ".py",
   "mimetype": "text/x-python",
   "name": "python",
   "nbconvert_exporter": "python",
   "pygments_lexer": "ipython3",
   "version": "3.8.8"
  }
 },
 "nbformat": 4,
 "nbformat_minor": 5
}
